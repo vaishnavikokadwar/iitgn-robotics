{
  "nbformat": 4,
  "nbformat_minor": 0,
  "metadata": {
    "colab": {
      "name": "Vaishnavi_18110183_Assignment 6.ipynb",
      "provenance": []
    },
    "kernelspec": {
      "name": "python3",
      "display_name": "Python 3"
    },
    "language_info": {
      "name": "python"
    }
  },
  "cells": [
    {
      "cell_type": "markdown",
      "metadata": {
        "id": "AZIpaCv-pDQH"
      },
      "source": [
        "Code Word: DEV"
      ]
    },
    {
      "cell_type": "code",
      "metadata": {
        "colab": {
          "base_uri": "https://localhost:8080/"
        },
        "id": "jZiRPTmIH7gs",
        "outputId": "a254f5b4-48f8-4a4c-ea9b-274f2d50919d"
      },
      "source": [
        "!pip install roboticstoolbox-python"
      ],
      "execution_count": 1,
      "outputs": [
        {
          "output_type": "stream",
          "name": "stdout",
          "text": [
            "Requirement already satisfied: roboticstoolbox-python in /usr/local/lib/python3.7/dist-packages (0.11.0)\n",
            "Requirement already satisfied: spatialgeometry>=0.2.0 in /usr/local/lib/python3.7/dist-packages (from roboticstoolbox-python) (0.2.0)\n",
            "Requirement already satisfied: swift-sim>=0.10.0 in /usr/local/lib/python3.7/dist-packages (from roboticstoolbox-python) (0.10.0)\n",
            "Requirement already satisfied: ansitable in /usr/local/lib/python3.7/dist-packages (from roboticstoolbox-python) (0.9.6)\n",
            "Requirement already satisfied: pgraph-python in /usr/local/lib/python3.7/dist-packages (from roboticstoolbox-python) (0.6.1)\n",
            "Requirement already satisfied: progress in /usr/local/lib/python3.7/dist-packages (from roboticstoolbox-python) (1.6)\n",
            "Requirement already satisfied: matplotlib in /usr/local/lib/python3.7/dist-packages (from roboticstoolbox-python) (3.2.2)\n",
            "Requirement already satisfied: spatialmath-python>=0.11 in /usr/local/lib/python3.7/dist-packages (from roboticstoolbox-python) (0.11)\n",
            "Requirement already satisfied: rtb-data in /usr/local/lib/python3.7/dist-packages (from roboticstoolbox-python) (0.10.1)\n",
            "Requirement already satisfied: scipy in /usr/local/lib/python3.7/dist-packages (from roboticstoolbox-python) (1.4.1)\n",
            "Requirement already satisfied: numpy>=1.18.0 in /usr/local/lib/python3.7/dist-packages (from roboticstoolbox-python) (1.21.4)\n",
            "Requirement already satisfied: qpsolvers in /usr/local/lib/python3.7/dist-packages (from roboticstoolbox-python) (1.7.1)\n",
            "Requirement already satisfied: colored in /usr/local/lib/python3.7/dist-packages (from spatialmath-python>=0.11->roboticstoolbox-python) (1.4.3)\n",
            "Requirement already satisfied: sphinxcontrib-jsmath in /usr/local/lib/python3.7/dist-packages (from spatialmath-python>=0.11->roboticstoolbox-python) (1.0.1)\n",
            "Requirement already satisfied: websockets in /usr/local/lib/python3.7/dist-packages (from swift-sim>=0.10.0->roboticstoolbox-python) (10.1)\n",
            "Requirement already satisfied: kiwisolver>=1.0.1 in /usr/local/lib/python3.7/dist-packages (from matplotlib->roboticstoolbox-python) (1.3.2)\n",
            "Requirement already satisfied: cycler>=0.10 in /usr/local/lib/python3.7/dist-packages (from matplotlib->roboticstoolbox-python) (0.11.0)\n",
            "Requirement already satisfied: python-dateutil>=2.1 in /usr/local/lib/python3.7/dist-packages (from matplotlib->roboticstoolbox-python) (2.8.2)\n",
            "Requirement already satisfied: pyparsing!=2.0.4,!=2.1.2,!=2.1.6,>=2.0.1 in /usr/local/lib/python3.7/dist-packages (from matplotlib->roboticstoolbox-python) (3.0.6)\n",
            "Requirement already satisfied: six>=1.5 in /usr/local/lib/python3.7/dist-packages (from python-dateutil>=2.1->matplotlib->roboticstoolbox-python) (1.15.0)\n",
            "Requirement already satisfied: qdldl>=0.1.5 in /usr/local/lib/python3.7/dist-packages (from qpsolvers->roboticstoolbox-python) (0.1.5.post0)\n",
            "Requirement already satisfied: Cython>=0.29.22 in /usr/local/lib/python3.7/dist-packages (from qpsolvers->roboticstoolbox-python) (0.29.24)\n",
            "Requirement already satisfied: quadprog>=0.1.8 in /usr/local/lib/python3.7/dist-packages (from qpsolvers->roboticstoolbox-python) (0.1.10)\n"
          ]
        }
      ]
    },
    {
      "cell_type": "code",
      "metadata": {
        "id": "QB1P4oGz5i7t"
      },
      "source": [
        "import numpy as np\n",
        "import matplotlib.pyplot as plt\n",
        "from scipy.integrate import odeint\n",
        "import sympy as sp\n",
        "import roboticstoolbox as rtb"
      ],
      "execution_count": 2,
      "outputs": []
    },
    {
      "cell_type": "markdown",
      "metadata": {
        "id": "y0V_n_hA-LwO"
      },
      "source": [
        "# **Task 1**"
      ]
    },
    {
      "cell_type": "code",
      "metadata": {
        "id": "HydY5N1R_tTS"
      },
      "source": [
        "def scara_invkin(x,y,z,d1,d2):\n",
        "    # using formulae from the textbook\n",
        "    r = abs((x**2+y**2-d1**2-d2**2)/(2*d1*d2))\n",
        "    theta2 = np.arctan(np.sqrt(abs(1-r**2))/r)\n",
        "    theta1 = np.arctan(y/x) - np.arctan((d2*np.sin(theta2))/(d1+d2*np.cos(theta2)))\n",
        "    d3 = -z\n",
        "    return theta1, theta2, d3"
      ],
      "execution_count": 3,
      "outputs": []
    },
    {
      "cell_type": "code",
      "metadata": {
        "colab": {
          "base_uri": "https://localhost:8080/",
          "height": 300
        },
        "id": "OS-Zy9db-H_j",
        "outputId": "af7d2f8e-4456-40ea-f59d-6e399f2d1a67"
      },
      "source": [
        "m1 = 1\n",
        "m2 = 1\n",
        "m3 = 1\n",
        "d1 = 1\n",
        "d2 = 1\n",
        "d3 = 0\n",
        "p = 1\n",
        "J1 = (1/3)*m1*d1**2\n",
        "J2 = (1/3)*m2*d2**2\n",
        "J3 = (1/3)*m3*d3**2\n",
        "\n",
        "A = [0.40,0.06,0.1] #initial point\n",
        "B = [0.40,0.01,0.1] #final point\n",
        "\n",
        "[theta1_i,theta2_i,d3_i] = scara_invkin(A[0],A[1],A[2],d1,d2) #initial joint variables\n",
        "[theta1_f,theta2_f,d3_f] = scara_invkin(B[0],B[1],B[2],d1,d2) #final joint variables\n",
        "[v1_i,v2_i,v3_i] = [0,0,0]\n",
        "[v1_f,v2_f,v3_f] = [0,0,0]\n",
        "\n",
        "#desired trajectory generation referred from textbook Section 8.2.1\n",
        "to = 0\n",
        "tf = 10\n",
        "\n",
        "t = np.linspace(to,tf,tf*100)\n",
        "c = [1]*len(t)\n",
        "\n",
        "M = [[1,to,to**2,to**3],[0,1,2*to,3*to**2],[1,tf,tf**2,tf**3],[0,1,2*tf,3*tf**2]]\n",
        "\n",
        "b1 = [theta1_i,v1_i,theta1_f,v1_f]\n",
        "b2 = [theta2_i,v2_i,theta2_f,v2_f]\n",
        "b3 = [d3_i,v1_i,d3_f,v1_f]\n",
        "\n",
        "a1 = np.matmul(np.linalg.inv(M),b1)\n",
        "a2 = np.matmul(np.linalg.inv(M),b2)\n",
        "a3 = np.matmul(np.linalg.inv(M),b3)\n",
        "\n",
        "#initialization\n",
        "q1_d = [0]*len(t)\n",
        "v1_d = [0]*len(t)\n",
        "a1_d = [0]*len(t)\n",
        "\n",
        "q2_d = [0]*len(t)\n",
        "v2_d = [0]*len(t)\n",
        "a2_d = [0]*len(t)\n",
        "\n",
        "d3_d = [0]*len(t)\n",
        "v3_d = [0]*len(t)\n",
        "a3_d = [0]*len(t)\n",
        "\n",
        "#desired end effector positions wrt time\n",
        "x_d = [0]*len(t)\n",
        "y_d = [0]*len(t)\n",
        "z_d = [0]*len(t)\n",
        "\n",
        "for i in range(len(t)):\n",
        "  q1_d[i] = a1[0]*c[i] + a1[1]*t[i] +a1[2]*t[i]**2 + a1[3]*t[i]**3\n",
        "  v1_d[i] = a1[1]*c[i] +2*a1[2]*t[i] +3*a1[3]*t[i]**2\n",
        "  a1_d[i] = 2*a1[2]*c[i] + 6*a1[3]*t[i]\n",
        "\n",
        "  q2_d[i] = a2[0]*c[i] + a2[1]*t[i] +a2[2]*t[i]**2 + a2[3]*t[i]**3\n",
        "  v2_d[i] = a2[1]*c[i] +2*a2[2]*t[i] +3*a2[3]*t[i]**2\n",
        "  a2_d[i] = 2*a2[2]*c[i] + 6*a2[3]*t[i]\n",
        "\n",
        "  d3_d[i] = a3[0]*c[i] + a3[1]*t[i] +a3[2]*t[i]**2 + a3[3]*t[i]**3\n",
        "  v3_d[i] = a3[1]*c[i] +2*a3[2]*t[i] +3*a3[3]*t[i]**2\n",
        "  a3_d[i] = 2*a3[2]*c[i] + 6*a3[3]*t[i]\n",
        "\n",
        "  x_d[i] = -p*np.sin(q1_d[i]) - d2*np.sin(q2_d[i])\n",
        "  y_d[i] = p*np.cos(q1_d[i]) + d2*np.cos(q2_d[i])\n",
        "  z_d[i] = d1 + d3_d[i]\n",
        "\n",
        "plt.title(\"Joint angle 1 vs Time\")\n",
        "plt.xlabel(\"Time\")\n",
        "plt.ylabel(\"Theta 1\")\n",
        "plt.plot(t,q1_d)"
      ],
      "execution_count": 4,
      "outputs": [
        {
          "output_type": "execute_result",
          "data": {
            "text/plain": [
              "[<matplotlib.lines.Line2D at 0x7f4ee1ef4550>]"
            ]
          },
          "metadata": {},
          "execution_count": 4
        },
        {
          "output_type": "display_data",
          "data": {
            "image/png": "[encoded data removed]",
            "text/plain": [
              "<Figure size 432x288 with 1 Axes>"
            ]
          },
          "metadata": {}
        }
      ]
    },
    {
      "cell_type": "code",
      "metadata": {
        "colab": {
          "base_uri": "https://localhost:8080/",
          "height": 300
        },
        "id": "HGT54GXz9jee",
        "outputId": "a7d6b2e3-4fe9-4c85-c50d-a313ba6dccc7"
      },
      "source": [
        "plt.title(\"Joint velocity 1 vs Time\")\n",
        "plt.xlabel(\"Time\")\n",
        "plt.ylabel(\"Velocity 1\")\n",
        "plt.plot(t,v1_d)"
      ],
      "execution_count": 5,
      "outputs": [
        {
          "output_type": "execute_result",
          "data": {
            "text/plain": [
              "[<matplotlib.lines.Line2D at 0x7f4ee478d150>]"
            ]
          },
          "metadata": {},
          "execution_count": 5
        },
        {
          "output_type": "display_data",
          "data": {
            "image/png": "[encoded data removed]",
            "text/plain": [
              "<Figure size 432x288 with 1 Axes>"
            ]
          },
          "metadata": {}
        }
      ]
    },
    {
      "cell_type": "code",
      "metadata": {
        "colab": {
          "base_uri": "https://localhost:8080/",
          "height": 300
        },
        "id": "4saTTuIk9qBP",
        "outputId": "9ce87ccb-8d0e-459a-95bf-5425cc9924b3"
      },
      "source": [
        "plt.title(\"Joint acceleration 1 vs Time\")\n",
        "plt.xlabel(\"Time\")\n",
        "plt.ylabel(\"Acceleration 1\")\n",
        "plt.plot(t,a1_d)"
      ],
      "execution_count": 6,
      "outputs": [
        {
          "output_type": "execute_result",
          "data": {
            "text/plain": [
              "[<matplotlib.lines.Line2D at 0x7f4ee1954d10>]"
            ]
          },
          "metadata": {},
          "execution_count": 6
        },
        {
          "output_type": "display_data",
          "data": {
            "image/png": "[encoded data removed]",
            "text/plain": [
              "<Figure size 432x288 with 1 Axes>"
            ]
          },
          "metadata": {}
        }
      ]
    },
    {
      "cell_type": "code",
      "metadata": {
        "colab": {
          "base_uri": "https://localhost:8080/",
          "height": 300
        },
        "id": "s-uTXcab8cyJ",
        "outputId": "c8b44e76-bed4-4acb-9c06-db64c9258707"
      },
      "source": [
        "plt.title(\"Joint angle 2 vs Time\")\n",
        "plt.xlabel(\"Time\")\n",
        "plt.ylabel(\"Theta 2\")\n",
        "plt.plot(t,q2_d)"
      ],
      "execution_count": 7,
      "outputs": [
        {
          "output_type": "execute_result",
          "data": {
            "text/plain": [
              "[<matplotlib.lines.Line2D at 0x7f4ee18cbf10>]"
            ]
          },
          "metadata": {},
          "execution_count": 7
        },
        {
          "output_type": "display_data",
          "data": {
            "image/png": "[encoded data removed]",
            "text/plain": [
              "<Figure size 432x288 with 1 Axes>"
            ]
          },
          "metadata": {}
        }
      ]
    },
    {
      "cell_type": "code",
      "metadata": {
        "colab": {
          "base_uri": "https://localhost:8080/",
          "height": 300
        },
        "id": "dF9NCmX59ueA",
        "outputId": "5ca98f11-d74e-48d1-872e-47abb46b7005"
      },
      "source": [
        "plt.title(\"Joint velocity 2 vs Time\")\n",
        "plt.xlabel(\"Time\")\n",
        "plt.ylabel(\"Velocity 2\")\n",
        "plt.plot(t,v2_d)"
      ],
      "execution_count": 8,
      "outputs": [
        {
          "output_type": "execute_result",
          "data": {
            "text/plain": [
              "[<matplotlib.lines.Line2D at 0x7f4ee18b8b50>]"
            ]
          },
          "metadata": {},
          "execution_count": 8
        },
        {
          "output_type": "display_data",
          "data": {
            "image/png": "[encoded data removed]",
            "text/plain": [
              "<Figure size 432x288 with 1 Axes>"
            ]
          },
          "metadata": {}
        }
      ]
    },
    {
      "cell_type": "code",
      "metadata": {
        "colab": {
          "base_uri": "https://localhost:8080/",
          "height": 300
        },
        "id": "occtdSvD9xrr",
        "outputId": "0500808c-f920-4002-e8b0-e2a0fc7b5bbc"
      },
      "source": [
        "plt.title(\"Joint acceleration 2 vs Time\")\n",
        "plt.xlabel(\"Time\")\n",
        "plt.ylabel(\"Acceleration 2\")\n",
        "plt.plot(t,a2_d)"
      ],
      "execution_count": 9,
      "outputs": [
        {
          "output_type": "execute_result",
          "data": {
            "text/plain": [
              "[<matplotlib.lines.Line2D at 0x7f4ee182b8d0>]"
            ]
          },
          "metadata": {},
          "execution_count": 9
        },
        {
          "output_type": "display_data",
          "data": {
            "image/png": "[encoded data removed]",
            "text/plain": [
              "<Figure size 432x288 with 1 Axes>"
            ]
          },
          "metadata": {}
        }
      ]
    },
    {
      "cell_type": "code",
      "metadata": {
        "colab": {
          "base_uri": "https://localhost:8080/",
          "height": 300
        },
        "id": "vYl9EnSX8tRs",
        "outputId": "4f27ccd0-98d8-481b-e032-00a03e85841d"
      },
      "source": [
        "plt.title(\"Joint angle 3 vs Time\")\n",
        "plt.xlabel(\"Time\")\n",
        "plt.ylabel(\"Theta 3\")\n",
        "plt.plot(t,d3_d)"
      ],
      "execution_count": 10,
      "outputs": [
        {
          "output_type": "execute_result",
          "data": {
            "text/plain": [
              "[<matplotlib.lines.Line2D at 0x7f4ee17965d0>]"
            ]
          },
          "metadata": {},
          "execution_count": 10
        },
        {
          "output_type": "display_data",
          "data": {
            "image/png": "[encoded data removed]",
            "text/plain": [
              "<Figure size 432x288 with 1 Axes>"
            ]
          },
          "metadata": {}
        }
      ]
    },
    {
      "cell_type": "code",
      "metadata": {
        "colab": {
          "base_uri": "https://localhost:8080/",
          "height": 300
        },
        "id": "8s9Xvj0X94uF",
        "outputId": "682e33c4-d59f-4681-e89e-849774c2d0ff"
      },
      "source": [
        "plt.title(\"Joint velocity 3 vs Time\")\n",
        "plt.xlabel(\"Time\")\n",
        "plt.ylabel(\"Velocity 3\")\n",
        "plt.plot(t,v3_d)"
      ],
      "execution_count": 11,
      "outputs": [
        {
          "output_type": "execute_result",
          "data": {
            "text/plain": [
              "[<matplotlib.lines.Line2D at 0x7f4ee16fafd0>]"
            ]
          },
          "metadata": {},
          "execution_count": 11
        },
        {
          "output_type": "display_data",
          "data": {
            "image/png": "[encoded data removed]",
            "text/plain": [
              "<Figure size 432x288 with 1 Axes>"
            ]
          },
          "metadata": {}
        }
      ]
    },
    {
      "cell_type": "code",
      "metadata": {
        "colab": {
          "base_uri": "https://localhost:8080/",
          "height": 300
        },
        "id": "5APSmXN298fT",
        "outputId": "33122c86-1557-4057-a4f4-21230dc0997d"
      },
      "source": [
        "plt.title(\"Joint acceleration 3 vs Time\")\n",
        "plt.xlabel(\"Time\")\n",
        "plt.ylabel(\"Acceleration 3\")\n",
        "plt.plot(t,a3_d)"
      ],
      "execution_count": 12,
      "outputs": [
        {
          "output_type": "execute_result",
          "data": {
            "text/plain": [
              "[<matplotlib.lines.Line2D at 0x7f4ee16ed9d0>]"
            ]
          },
          "metadata": {},
          "execution_count": 12
        },
        {
          "output_type": "display_data",
          "data": {
            "image/png": "[encoded data removed]",
            "text/plain": [
              "<Figure size 432x288 with 1 Axes>"
            ]
          },
          "metadata": {}
        }
      ]
    },
    {
      "cell_type": "markdown",
      "metadata": {
        "id": "y6NFRo8G7Iiu"
      },
      "source": [
        "**Task** **3** PD controller"
      ]
    },
    {
      "cell_type": "code",
      "metadata": {
        "id": "-MOQ4HWO7ILP",
        "colab": {
          "base_uri": "https://localhost:8080/",
          "height": 276
        },
        "outputId": "b926bb7e-ce06-42c6-80b8-9407cba192d9"
      },
      "source": [
        "[theta1_int, theta2_int, d3_int] = scara_invkin(A[0],A[1],A[2],d1,d2) #intermediate joint variables\n",
        "[x_int,y_int,z_int] = [-p*np.sin(theta1_int)-d2*np.sin(theta2_int),p*np.cos(theta1_int)+d2*np.cos(theta2_int),d1+d3_int]\n",
        "[theta1_d,theta2_d,d3_d] = [theta1_f,theta2_f,d3_f]\n",
        "\n",
        "x_act = [] #actual end effector positions for plotting and comparing purposes\n",
        "y_act = []\n",
        "z_act = []\n",
        "\n",
        "x_dot = 0\n",
        "y_dot = 0\n",
        "z_dot = 0\n",
        "\n",
        "#intial error values\n",
        "prev_e1 = theta1_d - theta1_int\n",
        "prev_e2 = theta2_d - theta2_int\n",
        "prev_e3 = d3_d - d3_int\n",
        "\n",
        "tstep = 0.01 #time step\n",
        "Kp = 0.5\n",
        "Kd = 1\n",
        "\n",
        "plt.ion()\n",
        "plt.show()\n",
        "\n",
        "#while (theta1_int != theta1_d) or (theta2_int != theta2_d) or (d3_int != d3_d): #PD angle control for first joint variable\n",
        "for i in range(len(t)):\n",
        "  e1 = theta1_d - theta1_int\n",
        "  tau1 = Kp*e1 + Kd*(e1-prev_e1)/(tstep)\n",
        "\n",
        "  e2 = theta2_d - theta2_int\n",
        "  tau2 = Kp*e2 + Kd*(e2-prev_e2)/(tstep)\n",
        "\n",
        "  e3 = d3_d - d3_int\n",
        "  tau3 = Kp*e3 + Kd*(e3-prev_e3)/(tstep)\n",
        "\n",
        "  theta = J1 + d1**2*(m1/4+m2+m3)\n",
        "  phi  = J2 + J3 + d2**2*(m2/4 + m3)\n",
        "  psi = d1*d2*m3 + d1*d2*0.5*m2\n",
        "\n",
        "  x_int = -p*np.sin(theta1_int) - d2*np.sin(theta2_int)\n",
        "  y_int = p*np.cos(theta1_int) + d2*np.cos(theta2_int)\n",
        "  z_int = d1 + d3_int\n",
        "\n",
        "  u1 = -psi*np.sin(y_int)*y_dot*x_dot - psi*np.sin(y_int)*(x_dot + y_dot)*y_dot + tau1\n",
        "  u2 = psi*np.sin(y_int)*x_dot**2 + tau2\n",
        "  u3 = m3*9.8 + tau3\n",
        "\n",
        "  M = np.array([[theta+phi+2*psi*np.cos(y_int),phi+2*psi*np.cos(y_int),0],[phi+2*psi*np.cos(y_int),phi,0],[0,0,m3]])\n",
        "  C = np.array([[-psi*np.sin(y_int)*y_dot, -psi*np.sin(y_int)*(x_dot+y_dot),0],[psi*np.sin(y_int)*x_dot,0,0],[0,0,0]])\n",
        "\n",
        "  G = np.transpose(np.array([0,0,m3*9.8]))\n",
        "  U = np.transpose(np.array([u1,u2,u3]))\n",
        "  K = U - np.matmul(C,np.transpose([x_dot,y_dot,z_dot])) - G\n",
        "\n",
        "  d2y_dt2 = np.matmul(np.linalg.inv(M),K)\n",
        "\n",
        "  x_dot = x_dot + d2y_dt2[0]*tstep\n",
        "  y_dot = y_dot + d2y_dt2[1]*tstep\n",
        "  z_dot = z_dot + d2y_dt2[2]*tstep\n",
        "\n",
        "  x_int = x_dot*tstep + 0.5*d2y_dt2[0]*tstep**2\n",
        "  y_int = y_dot*tstep + 0.5*d2y_dt2[1]*tstep**2\n",
        "  z_int = z_dot*tstep + 0.5*d2y_dt2[2]*tstep**2\n",
        "\n",
        "  x_act.append(x_int)\n",
        "  y_act.append(y_int)\n",
        "  z_act.append(z_int)\n",
        "\n",
        "  [theta1_int, theta2_int, d3_int] = scara_invkin(x_int,y_int,z_int,d1,d2)\n",
        "\n",
        "plt.plot(t,x_act)\n",
        "plt.plot(t,x_d)"
      ],
      "execution_count": 13,
      "outputs": [
        {
          "output_type": "execute_result",
          "data": {
            "text/plain": [
              "[<matplotlib.lines.Line2D at 0x7f4ee161b1d0>]"
            ]
          },
          "metadata": {},
          "execution_count": 13
        },
        {
          "output_type": "display_data",
          "data": {
            "image/png": "[encoded data removed]",
            "text/plain": [
              "<Figure size 432x288 with 1 Axes>"
            ]
          },
          "metadata": {}
        }
      ]
    },
    {
      "cell_type": "code",
      "metadata": {
        "colab": {
          "base_uri": "https://localhost:8080/",
          "height": 276
        },
        "id": "a1851IGjHaFQ",
        "outputId": "eb806977-2147-4fa6-a33a-8a3f775dc7d4"
      },
      "source": [
        "plt.plot(t,y_act)\n",
        "plt.plot(t,y_d)"
      ],
      "execution_count": 14,
      "outputs": [
        {
          "output_type": "execute_result",
          "data": {
            "text/plain": [
              "[<matplotlib.lines.Line2D at 0x7f4ee166c150>]"
            ]
          },
          "metadata": {},
          "execution_count": 14
        },
        {
          "output_type": "display_data",
          "data": {
            "image/png": "[encoded data removed]",
            "text/plain": [
              "<Figure size 432x288 with 1 Axes>"
            ]
          },
          "metadata": {}
        }
      ]
    },
    {
      "cell_type": "code",
      "metadata": {
        "colab": {
          "base_uri": "https://localhost:8080/",
          "height": 276
        },
        "id": "U9hv1qENHjgP",
        "outputId": "18567f6f-41f5-40f3-9ac7-63b183d3f938"
      },
      "source": [
        "plt.plot(t,z_act)\n",
        "plt.plot(t,z_d)"
      ],
      "execution_count": 15,
      "outputs": [
        {
          "output_type": "execute_result",
          "data": {
            "text/plain": [
              "[<matplotlib.lines.Line2D at 0x7f4ee156fbd0>]"
            ]
          },
          "metadata": {},
          "execution_count": 15
        },
        {
          "output_type": "display_data",
          "data": {
            "image/png": "[encoded data removed]",
            "text/plain": [
              "<Figure size 432x288 with 1 Axes>"
            ]
          },
          "metadata": {}
        }
      ]
    },
    {
      "cell_type": "markdown",
      "metadata": {
        "id": "9HPI3_9yJEwn"
      },
      "source": [
        "PD Control with feedforward control"
      ]
    },
    {
      "cell_type": "code",
      "metadata": {
        "colab": {
          "base_uri": "https://localhost:8080/",
          "height": 276
        },
        "id": "Wi0TwOazJJC7",
        "outputId": "455f5537-3dbb-412c-fae2-5f48db14c59f"
      },
      "source": [
        "[theta1_int, theta2_int, d3_int] = scara_invkin(A[0],A[1],A[2],d1,d2) #intermediate joint variables\n",
        "[x_int,y_int,z_int] = [-p*np.sin(theta1_int)-d2*np.sin(theta2_int),p*np.cos(theta1_int)+d2*np.cos(theta2_int),d1+d3_int]\n",
        "[theta1_d,theta2_d,d3_d] = [theta1_f,theta2_f,d3_f]\n",
        "\n",
        "x_act = [] #actual end effector positions for plotting and comparing purposes\n",
        "y_act = []\n",
        "z_act = []\n",
        "\n",
        "x_dot = 0\n",
        "y_dot = 0\n",
        "z_dot = 0\n",
        "\n",
        "#intial error values\n",
        "prev_e1 = theta1_d - theta1_int\n",
        "prev_e2 = theta2_d - theta2_int\n",
        "prev_e3 = d3_d - d3_int\n",
        "\n",
        "tstep = 0.01 #time step\n",
        "Kp = 0.5\n",
        "Kd = 1\n",
        "\n",
        "plt.ion()\n",
        "plt.show()\n",
        "\n",
        "#while (theta1_int != theta1_d) or (theta2_int != theta2_d) or (d3_int != d3_d): #PD angle control for first joint variable\n",
        "for i in range(len(t)):\n",
        "  e1 = theta1_d - theta1_int\n",
        "  tau1 = Kp*e1 + Kd*(e1-prev_e1)/(tstep) + theta1_int\n",
        "\n",
        "  e2 = theta2_d - theta2_int\n",
        "  tau2 = Kp*e2 + Kd*(e2-prev_e2)/(tstep) + theta2_int\n",
        "\n",
        "  e3 = d3_d - d3_int\n",
        "  tau3 = Kp*e3 + Kd*(e3-prev_e3)/(tstep) + d3_int\n",
        "\n",
        "  theta = J1 + d1**2*(m1/4+m2+m3)\n",
        "  phi  = J2 + J3 + d2**2*(m2/4 + m3)\n",
        "  psi = d1*d2*m3 + d1*d2*0.5*m2\n",
        "\n",
        "  x_int = -p*np.sin(theta1_int) - d2*np.sin(theta2_int)\n",
        "  y_int = p*np.cos(theta1_int) + d2*np.cos(theta2_int)\n",
        "  z_int = d1 + d3_int\n",
        "\n",
        "  u1 = -psi*np.sin(y_int)*y_dot*x_dot - psi*np.sin(y_int)*(x_dot + y_dot)*y_dot + tau1\n",
        "  u2 = psi*np.sin(y_int)*x_dot**2 + tau2\n",
        "  u3 = m3*9.8 + tau3\n",
        "\n",
        "  M = np.array([[theta+phi+2*psi*np.cos(y_int),phi+2*psi*np.cos(y_int),0],[phi+2*psi*np.cos(y_int),phi,0],[0,0,m3]])\n",
        "  C = np.array([[-psi*np.sin(y_int)*y_dot, -psi*np.sin(y_int)*(x_dot+y_dot),0],[psi*np.sin(y_int)*x_dot,0,0],[0,0,0]])\n",
        "\n",
        "  G = np.transpose(np.array([0,0,m3*9.8]))\n",
        "  U = np.transpose(np.array([u1,u2,u3]))\n",
        "  K = U - np.matmul(C,np.transpose([x_dot,y_dot,z_dot])) - G\n",
        "\n",
        "  d2y_dt2 = np.matmul(np.linalg.inv(M),K)\n",
        "\n",
        "  x_dot = x_dot + d2y_dt2[0]*tstep\n",
        "  y_dot = y_dot + d2y_dt2[1]*tstep\n",
        "  z_dot = z_dot + d2y_dt2[2]*tstep\n",
        "\n",
        "  x_int = x_dot*tstep + 0.5*d2y_dt2[0]*tstep**2\n",
        "  y_int = y_dot*tstep + 0.5*d2y_dt2[1]*tstep**2\n",
        "  z_int = z_dot*tstep + 0.5*d2y_dt2[2]*tstep**2\n",
        "\n",
        "  x_act.append(x_int)\n",
        "  y_act.append(y_int)\n",
        "  z_act.append(z_int)\n",
        "\n",
        "  [theta1_int, theta2_int, d3_int] = scara_invkin(x_int,y_int,z_int,d1,d2)\n",
        "\n",
        "plt.plot(t,x_act)\n",
        "plt.plot(t,x_d)"
      ],
      "execution_count": 16,
      "outputs": [
        {
          "output_type": "execute_result",
          "data": {
            "text/plain": [
              "[<matplotlib.lines.Line2D at 0x7f4ee1498150>]"
            ]
          },
          "metadata": {},
          "execution_count": 16
        },
        {
          "output_type": "display_data",
          "data": {
            "image/png": "[encoded data removed]",
            "text/plain": [
              "<Figure size 432x288 with 1 Axes>"
            ]
          },
          "metadata": {}
        }
      ]
    },
    {
      "cell_type": "code",
      "metadata": {
        "id": "mvXxA_brXpf3",
        "colab": {
          "base_uri": "https://localhost:8080/",
          "height": 276
        },
        "outputId": "cbc6480c-df9b-43cb-c055-8a4cacc4b233"
      },
      "source": [
        "plt.plot(t,y_act)\n",
        "plt.plot(t,y_d)"
      ],
      "execution_count": 17,
      "outputs": [
        {
          "output_type": "execute_result",
          "data": {
            "text/plain": [
              "[<matplotlib.lines.Line2D at 0x7f4ee19a2050>]"
            ]
          },
          "metadata": {},
          "execution_count": 17
        },
        {
          "output_type": "display_data",
          "data": {
            "image/png": "[encoded data removed]",
            "text/plain": [
              "<Figure size 432x288 with 1 Axes>"
            ]
          },
          "metadata": {}
        }
      ]
    },
    {
      "cell_type": "code",
      "metadata": {
        "id": "v7RcE-T9Xs-5",
        "colab": {
          "base_uri": "https://localhost:8080/",
          "height": 276
        },
        "outputId": "b0df8c9b-f793-4918-e5cb-c2f360e48286"
      },
      "source": [
        "plt.plot(t,z_act)\n",
        "plt.plot(t,z_d)"
      ],
      "execution_count": 18,
      "outputs": [
        {
          "output_type": "execute_result",
          "data": {
            "text/plain": [
              "[<matplotlib.lines.Line2D at 0x7f4ee17e8310>]"
            ]
          },
          "metadata": {},
          "execution_count": 18
        },
        {
          "output_type": "display_data",
          "data": {
            "image/png": "[encoded data removed]",
            "text/plain": [
              "<Figure size 432x288 with 1 Axes>"
            ]
          },
          "metadata": {}
        }
      ]
    },
    {
      "cell_type": "code",
      "metadata": {
        "colab": {
          "base_uri": "https://localhost:8080/",
          "height": 301
        },
        "id": "LuoMvnTDRmYO",
        "outputId": "c49fc5e7-d101-4886-f6e2-fcea7a4b4df0"
      },
      "source": [
        "[theta1_int, theta2_int, d3_int] = scara_invkin(A[0],A[1],A[2],d1,d2) #intermediate joint variables\n",
        "[theta1_prev,theta2_prev,d3_prev] = [theta1_int, theta2_int, d3_int]\n",
        "[x_int,y_int,z_int] = [-p*np.sin(theta1_int)-d2*np.sin(theta2_int),p*np.cos(theta1_int)+d2*np.cos(theta2_int),d1+d3_int]\n",
        "[theta1_d,theta2_d,d3_d] = [theta1_f,theta2_f,d3_f]\n",
        "d2y_dt2 = [0,0,0]\n",
        "\n",
        "x_act = [] #actual end effector positions for plotting and comparing purposes\n",
        "y_act = []\n",
        "z_act = []\n",
        "\n",
        "x_dot = 0\n",
        "y_dot = 0\n",
        "z_dot = 0\n",
        "\n",
        "#intial error values\n",
        "prev_e1 = theta1_d - theta1_int\n",
        "prev_e2 = theta2_d - theta2_int\n",
        "prev_e3 = d3_d - d3_int\n",
        "\n",
        "tstep = 0.01 #time step\n",
        "Kp = 0.5\n",
        "Kd = 1\n",
        "\n",
        "plt.ion()\n",
        "plt.show()\n",
        "\n",
        "#while (theta1_int != theta1_d) or (theta2_int != theta2_d) or (d3_int != d3_d): #PD angle control for first joint variable\n",
        "for i in range(len(t)):\n",
        "  \n",
        "\n",
        "  q1dot = (theta1_int - theta1_prev)/tstep\n",
        "  q2dot = (theta2_int - theta2_prev)/tstep\n",
        "  d3dot = (d3_int-d3_prev)/tstep\n",
        "\n",
        "  q1ddot = (d2y_dt2[0]*np.sin(theta2_int)-p*np.sin(theta1_int)*np.sin(theta2_int)*q1dot-d2*np.sin(theta2_int)**2*q2dot-d2y_dt2[1]*np.cos(theta2_int)-p*np.cos(theta1_int)*np.cos(theta2_int)*q1dot-d2*np.cos(theta2_int)**2*q2dot)/(p*np.sin(theta1_int)*np.cos(theta2_int)-p*np.cos(theta1_int)*np.sin(theta2_int))\n",
        "  q2ddot = (d2y_dt2[0]*np.sin(theta1_int)-p*np.sin(theta1_int)**2*q1dot - d2*np.sin(theta1_int)*np.sin(theta2_int)*q2dot-d2y_dt2[1]*np.cos(theta1_int)-p*np.cos(theta1_int)**2*q1dot-d2*np.cos(theta1_int)*np.cos(theta2_int)*q2dot)/(d2*np.cos(theta1_int)*np.sin(theta2_int)-d2*np.sin(theta1_int)*np.cos(theta2_int))\n",
        "  d3dot = d2y_dt2[2]\n",
        "\n",
        "  robot1 = rtb.DHRobot(\n",
        "        [\n",
        "            rtb.RevoluteDH(alpha=0, a=0.5, d=0.2, I=np.array([[1/6,1/12,0],[1/12,1/12,0],[0,0,0]]), m=1),\n",
        "            rtb.RevoluteDH(alpha=np.pi, a=0.5, d=0, I=np.array([[1/6,1/12,0],[1/12,1/12,0],[0,0,0]]), m=1),\n",
        "            rtb.PrismaticDH(theta=0, alpha=0, a=0, I=np.array([[1/6,1/12,0],[1/12,1/12,0],[0,0,0]]), m=1),\n",
        "        ], name=\"scararob\", gravity=[0, 0, 9.81])\n",
        "\n",
        "  # Get D,C,phi\n",
        "  D = robot1.inertia(np.array(np.transpose([theta1_int,theta2_int,d3_int])))\n",
        "  C = robot1.coriolis(np.array([theta1_int,theta2_int,d3]),np.array([0,0,0]))\n",
        "  phi = robot1.gravload(np.array(np.transpose([theta1_int,theta2_int,d3_int])))\n",
        "  phi = np.reshape(phi, (3, 1))\n",
        "\n",
        "  #computed torques\n",
        "  dd1 = (D[0,0]*q1ddot + D[1,0]*q2ddot + D[2,0]*d2y_dt2[2]) + (C[0,0]*q1dot**2+ (C[0,1]+C[0,0])*q1dot*q2dot+C[0,1]*q2dot**2+ (C[0,2]+C[0,0])*q1dot*d3dot + (C[0,2]+C[0,1])*q2dot*d3dot + C[0,2]*d3dot**2) + phi[0]\n",
        "  dd2 = (D[0,1]*q1ddot + D[1,1]*q2ddot + D[2,1]*d2y_dt2[2]) + (C[1,0]*q1dot**2+ (C[1,1]+C[1,0])*q1dot*q2dot+C[1,1]*q2dot**2+ (C[1,2]+C[1,0])*q1dot*d3dot + (C[1,2]+C[1,1])*q2dot*d3dot + C[1,2]*d3dot**2) + phi[1]\n",
        "  dd3 = (D[0,2]*q1ddot + D[1,2]*q2ddot + D[2,2]*d2y_dt2[2]) + (C[2,0]*q1dot**2+ (C[2,1]+C[2,0])*q1dot*q2dot+C[2,1]*q2dot**2+ (C[2,2]+C[2,0])*q1dot*d3dot + (C[2,2]+C[2,1])*q2dot*d3dot + C[2,2]*d3dot**2) + phi[2]\n",
        "\n",
        "  e1 = theta1_d - theta1_int\n",
        "  tau1 = Kp*e1 + Kd*(e1-prev_e1)/(tstep) + theta1_int + dd1\n",
        "\n",
        "  e2 = theta2_d - theta2_int\n",
        "  tau2 = Kp*e2 + Kd*(e2-prev_e2)/(tstep) + theta2_int + dd2\n",
        "\n",
        "  e3 = d3_d - d3_int\n",
        "  tau3 = Kp*e3 + Kd*(e3-prev_e3)/(tstep) + d3_int + dd3\n",
        "\n",
        "  theta1 = J1 + d1**2*(m1/4+m2+m3)\n",
        "  phi1  = J2 + J3 + d2**2*(m2/4 + m3)\n",
        "  psi = d1*d2*m3 + d1*d2*0.5*m2\n",
        "\n",
        "  x_int = -p*np.sin(theta1_int) - d2*np.sin(theta2_int)\n",
        "  y_int = p*np.cos(theta1_int) + d2*np.cos(theta2_int)\n",
        "  z_int = d1 + d3_int\n",
        "\n",
        "  u1 = -psi*np.sin(y_int)*y_dot*x_dot - psi*np.sin(y_int)*(x_dot + y_dot)*y_dot + tau1\n",
        "  u2 = psi*np.sin(y_int)*x_dot**2 + tau2\n",
        "  u3 = m3*9.8 + tau3\n",
        "\n",
        "  M = [[theta1+phi1+2*psi*np.cos(y_int),phi1+2*psi*np.cos(y_int),0],[phi1+2*psi*np.cos(y_int),phi1,0],[0,0,m3]]\n",
        "  C1 = np.array([[-psi*np.sin(y_int)*y_dot, -psi*np.sin(y_int)*(x_dot+y_dot),0],[psi*np.sin(y_int)*x_dot,0,0],[0,0,0]])\n",
        "\n",
        "  G = np.transpose(np.array([0,0,m3*9.8]))\n",
        "  U = np.transpose(np.array([u1,u2,u3]))\n",
        "  K = U - np.matmul(C1,[x_dot,y_dot,z_dot]) - G\n",
        "\n",
        "  d2y_dt2 = np.matmul(np.linalg.inv(M),np.transpose(K))\n",
        "  d2y_dt2 = [np.asscalar(d2y_dt2[0]),np.asscalar(d2y_dt2[1]),np.asscalar(d2y_dt2[2])]\n",
        "\n",
        "  x_dot = x_dot + d2y_dt2[0]*tstep\n",
        "  y_dot = y_dot + d2y_dt2[1]*tstep\n",
        "  z_dot = z_dot + d2y_dt2[2]*tstep\n",
        "\n",
        "  x_int = x_dot*tstep + 0.5*d2y_dt2[0]*tstep**2\n",
        "  y_int = y_dot*tstep + 0.5*d2y_dt2[1]*tstep**2\n",
        "  z_int = z_dot*tstep + 0.5*d2y_dt2[2]*tstep**2\n",
        "\n",
        "  x_act.append(x_int)\n",
        "  y_act.append(y_int)\n",
        "  z_act.append(z_int)\n",
        "\n",
        "  [theta1_prev,theta2_prev,d3_prev] = [theta1_int,theta2_int,d3_int]\n",
        "\n",
        "  [theta1_int, theta2_int, d3_int] = scara_invkin(x_int,y_int,z_int,d1,d2)\n",
        "  #print(type(x_int))\n",
        "\n",
        "plt.plot(t,x_act)\n",
        "plt.plot(t,x_d)"
      ],
      "execution_count": 56,
      "outputs": [
        {
          "output_type": "stream",
          "name": "stderr",
          "text": [
            "/usr/local/lib/python3.7/dist-packages/ipykernel_launcher.py:86: DeprecationWarning: np.asscalar(a) is deprecated since NumPy v1.16, use a.item() instead\n"
          ]
        },
        {
          "output_type": "execute_result",
          "data": {
            "text/plain": [
              "[<matplotlib.lines.Line2D at 0x7f4edb45e590>]"
            ]
          },
          "metadata": {},
          "execution_count": 56
        },
        {
          "output_type": "display_data",
          "data": {
            "image/png": "[encoded data removed]",
            "text/plain": [
              "<Figure size 432x288 with 1 Axes>"
            ]
          },
          "metadata": {}
        }
      ]
    },
    {
      "cell_type": "code",
      "metadata": {
        "colab": {
          "base_uri": "https://localhost:8080/",
          "height": 284
        },
        "id": "5OkVIck4jtNY",
        "outputId": "8e8c147d-0d03-4394-8c59-51c35e644c0c"
      },
      "source": [
        "plt.plot(t,y_act)\n",
        "plt.plot(t,y_d)"
      ],
      "execution_count": 57,
      "outputs": [
        {
          "output_type": "execute_result",
          "data": {
            "text/plain": [
              "[<matplotlib.lines.Line2D at 0x7f4edc724ad0>]"
            ]
          },
          "metadata": {},
          "execution_count": 57
        },
        {
          "output_type": "display_data",
          "data": {
            "image/png": "[encoded data removed]",
            "text/plain": [
              "<Figure size 432x288 with 1 Axes>"
            ]
          },
          "metadata": {}
        }
      ]
    },
    {
      "cell_type": "code",
      "metadata": {
        "colab": {
          "base_uri": "https://localhost:8080/",
          "height": 284
        },
        "id": "y2zUbD8Qjwur",
        "outputId": "4d90003d-95cd-4b9a-f9fd-0180ca2778e1"
      },
      "source": [
        "plt.plot(t,z_act)\n",
        "plt.plot(t,z_d)"
      ],
      "execution_count": 58,
      "outputs": [
        {
          "output_type": "execute_result",
          "data": {
            "text/plain": [
              "[<matplotlib.lines.Line2D at 0x7f4ee12ebf50>]"
            ]
          },
          "metadata": {},
          "execution_count": 58
        },
        {
          "output_type": "display_data",
          "data": {
            "image/png": "[encoded data removed]",
            "text/plain": [
              "<Figure size 432x288 with 1 Axes>"
            ]
          },
          "metadata": {}
        }
      ]
    }
  ]
}